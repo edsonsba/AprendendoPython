{
 "cells": [
  {
   "cell_type": "code",
   "execution_count": 6,
   "metadata": {},
   "outputs": [
    {
     "name": "stdout",
     "output_type": "stream",
     "text": [
      "[<a class=\"gb_e\" data-pid=\"23\" href=\"https://mail.google.com/mail/?tab=wm&amp;ogbl\">Gmail</a>, <a class=\"gb_e\" data-pid=\"2\" href=\"https://www.google.com.br/imghp?hl=pt-BR&amp;tab=wi&amp;ogbl\">Imagens</a>, <a aria-expanded=\"false\" class=\"gb_C gb_wc\" data-eqid=\"0click\" href=\"https://www.google.com.br/intl/pt-BR/about/products?tab=wh\" role=\"button\" tabindex=\"0\" title=\"Google Apps\"></a>, <a class=\"gb_he gb_5 gb_tb\" href=\"https://accounts.google.com/ServiceLogin?hl=pt-BR&amp;passive=true&amp;continue=https://www.google.com/%3Fgws_rd%3Dssl\" id=\"gb_70\" target=\"_top\">Fazer login</a>, <a class=\"gb_1 gb_rd gb_sd\" data-navigation=\"server\" href=\"#\" role=\"button\">Não, obrigado</a>, <a aria-label=\"Completar\" class=\"gb_tb gb_5 gb_sd gb_ud\" href=\"https://www.google.com/url?q=https://myaccount.google.com/privacycheckup/1%3Futm_source%3Dgoogle%26utm_medium%3Dcallout%26utm_campaign%3Dq3-privacy-checkup&amp;source=hpp&amp;id=19013806&amp;ct=7&amp;usg=AFQjCNFEd14CwnrvuKMP6-2y8JEl6OzXHg\" role=\"button\" target=\"_blank\"><span>Completar</span></a>, <a class=\"duf3 aciXEb\" data-async-trigger=\"duf3-46\" data-ved=\"0ahUKEwisid311dvkAhX9GLkGHaN5D_QQtw8ICQ\" href=\"#\" id=\"sbfblt\" jsaction=\"async.u\">Denunciar previsões inadequadas</a>, <a class=\"NKcBbd\" href=\"https://www.google.com/url?q=https://families.google.com/familylink%3Futm_source%3Dhpp%26utm_medium%3Dgoogle_hpp%26utm_campaign%3Dfall_19&amp;source=hpp&amp;id=19013921&amp;ct=3&amp;usg=AFQjCNHDVvh9yiJ0LuQdM0zmX55vwCxSGw&amp;sa=X&amp;ved=0ahUKEwisid311dvkAhX9GLkGHaN5D_QQ8IcBCA4\" rel=\"nofollow\">Crie hábitos digitais saudáveis com o Family Link</a>, <a class=\"Fx4vi\" href=\"https://policies.google.com/privacy?fg=1\" ping=\"/url?sa=t&amp;rct=j&amp;source=webhp&amp;url=https://policies.google.com/privacy%3Ffg%3D1&amp;ved=0ahUKEwisid311dvkAhX9GLkGHaN5D_QQ8awCCBE\">Privacidade</a>, <a class=\"Fx4vi\" href=\"https://policies.google.com/terms?fg=1\" ping=\"/url?sa=t&amp;rct=j&amp;source=webhp&amp;url=https://policies.google.com/terms%3Ffg%3D1&amp;ved=0ahUKEwisid311dvkAhX9GLkGHaN5D_QQ8qwCCBI\">Termos</a>, <a aria-controls=\"fsett\" aria-expanded=\"false\" aria-haspopup=\"true\" class=\"Fx4vi\" href=\"https://www.google.com/preferences?hl=pt-BR\" id=\"fsettl\" jsaction=\"foot.cst\" ping=\"/url?sa=t&amp;rct=j&amp;source=webhp&amp;url=https://www.google.com/preferences%3Fhl%3Dpt-BR&amp;ved=0ahUKEwisid311dvkAhX9GLkGHaN5D_QQzq0CCBM\" role=\"button\">Configurações</a>, <a href=\"https://www.google.com/preferences?hl=pt-BR&amp;fg=1\" role=\"menuitem\">Configurações de Pesquisa</a>, <a href=\"/advanced_search?hl=pt-BR&amp;fg=1\" role=\"menuitem\">Pesquisa avançada</a>, <a href=\"/history/privacyadvisor/search?utm_source=googlemenu&amp;fg=1\" role=\"menuitem\">Seus dados na Pesquisa</a>, <a href=\"/history/optout?hl=pt-BR&amp;fg=1\" role=\"menuitem\">Histórico</a>, <a href=\"//support.google.com/websearch/?p=ws_results_help&amp;hl=pt-BR&amp;fg=1\" role=\"menuitem\">Ajuda da Pesquisa</a>, <a data-bucket=\"websearch\" data-ved=\"0ahUKEwisid311dvkAhX9GLkGHaN5D_QQLggU\" href=\"#\" id=\"dk2qOd\" jsaction=\"gf.sf\" role=\"menuitem\" target=\"_blank\">Enviar feedback</a>, <a class=\"Fx4vi\" href=\"https://www.google.com/intl/pt-BR_br/ads/?subid=ww-ww-et-g-awa-a-g_hpafoot1_1!o2&amp;utm_source=google.com&amp;utm_medium=referral&amp;utm_campaign=google_hpafooter&amp;fg=1\" ping=\"/url?sa=t&amp;rct=j&amp;source=webhp&amp;url=https://www.google.com/intl/pt-BR_br/ads/%3Fsubid%3Dww-ww-et-g-awa-a-g_hpafoot1_1!o2%26utm_source%3Dgoogle.com%26utm_medium%3Dreferral%26utm_campaign%3Dgoogle_hpafooter%26fg%3D1&amp;ved=0ahUKEwisid311dvkAhX9GLkGHaN5D_QQkdQCCBU\">Publicidade</a>, <a class=\"Fx4vi\" href=\"https://www.google.com/services/?subid=ww-ww-et-g-awa-a-g_hpbfoot1_1!o2&amp;utm_source=google.com&amp;utm_medium=referral&amp;utm_campaign=google_hpbfooter&amp;fg=1\" ping=\"/url?sa=t&amp;rct=j&amp;source=webhp&amp;url=https://www.google.com/services/%3Fsubid%3Dww-ww-et-g-awa-a-g_hpbfoot1_1!o2%26utm_source%3Dgoogle.com%26utm_medium%3Dreferral%26utm_campaign%3Dgoogle_hpbfooter%26fg%3D1&amp;ved=0ahUKEwisid311dvkAhX9GLkGHaN5D_QQktQCCBY\">Negócios</a>, <a class=\"Fx4vi\" href=\"https://www.google.com/intl/pt-BR_br/about/?utm_source=google-BR&amp;utm_medium=referral&amp;utm_campaign=hp-footer&amp;fg=1\" ping=\"/url?sa=t&amp;rct=j&amp;source=webhp&amp;url=https://www.google.com/intl/pt-BR_br/about/%3Futm_source%3Dgoogle-BR%26utm_medium%3Dreferral%26utm_campaign%3Dhp-footer%26fg%3D1&amp;ved=0ahUKEwisid311dvkAhX9GLkGHaN5D_QQkNQCCBc\">Sobre</a>, <a class=\"Fx4vi\" href=\"//google.com/search/howsearchworks/?fg=1\">  Como funciona a Pesquisa </a>]\n"
     ]
    }
   ],
   "source": [
    "from selenium import webdriver\n",
    "from bs4 import BeautifulSoup as bs\n",
    "\n",
    "class page:\n",
    "    def __init__(self,driver):\n",
    "        self.driver = driver\n",
    "ff = webdriver.Chrome(r\"C:/Program Files (x86)/Google/Chrome/Application/chromedriver.exe\")\n",
    "ff.get('http://google.com')\n",
    "html = ff.page_source\n",
    "google_page = bs(html,'html.parser')\n",
    "google_page.find_all('a')\n",
    "_as = google_page.find_all('a')\n",
    "print(_as)\n"
   ]
  },
  {
   "cell_type": "code",
   "execution_count": null,
   "metadata": {},
   "outputs": [],
   "source": []
  },
  {
   "cell_type": "code",
   "execution_count": 5,
   "metadata": {},
   "outputs": [
    {
     "ename": "IndexError",
     "evalue": "list index out of range",
     "output_type": "error",
     "traceback": [
      "\u001b[1;31m---------------------------------------------------------------------------\u001b[0m",
      "\u001b[1;31mIndexError\u001b[0m                                Traceback (most recent call last)",
      "\u001b[1;32m<ipython-input-5-e2e9f93f8e48>\u001b[0m in \u001b[0;36m<module>\u001b[1;34m\u001b[0m\n\u001b[1;32m----> 1\u001b[1;33m \u001b[0m_as\u001b[0m\u001b[1;33m[\u001b[0m\u001b[1;36m0\u001b[0m\u001b[1;33m]\u001b[0m\u001b[1;33m\u001b[0m\u001b[1;33m\u001b[0m\u001b[0m\n\u001b[0m",
      "\u001b[1;31mIndexError\u001b[0m: list index out of range"
     ]
    }
   ],
   "source": [
    "_as[0]"
   ]
  },
  {
   "cell_type": "code",
   "execution_count": 21,
   "metadata": {},
   "outputs": [
    {
     "data": {
      "text/plain": [
       "<a class=\"Fx4vi\" href=\"https://www.google.com/services/?subid=ww-ww-et-g-awa-a-g_hpbfoot1_1!o2&amp;utm_source=google.com&amp;utm_medium=referral&amp;utm_campaign=google_hpbfooter&amp;fg=1\" ping=\"/url?sa=t&amp;rct=j&amp;source=webhp&amp;url=https://www.google.com/services/%3Fsubid%3Dww-ww-et-g-awa-a-g_hpbfoot1_1!o2%26utm_source%3Dgoogle.com%26utm_medium%3Dreferral%26utm_campaign%3Dgoogle_hpbfooter%26fg%3D1&amp;ved=0ahUKEwisid311dvkAhX9GLkGHaN5D_QQktQCCBY\">Negócios</a>"
      ]
     },
     "execution_count": 21,
     "metadata": {},
     "output_type": "execute_result"
    }
   ],
   "source": [
    "_as[18]"
   ]
  },
  {
   "cell_type": "code",
   "execution_count": 8,
   "metadata": {},
   "outputs": [
    {
     "data": {
      "text/plain": [
       "bs4.element.Tag"
      ]
     },
     "execution_count": 8,
     "metadata": {},
     "output_type": "execute_result"
    }
   ],
   "source": [
    "type(_as[3])"
   ]
  },
  {
   "cell_type": "code",
   "execution_count": 13,
   "metadata": {},
   "outputs": [
    {
     "data": {
      "text/plain": [
       "<span>Completar</span>"
      ]
     },
     "execution_count": 13,
     "metadata": {},
     "output_type": "execute_result"
    }
   ],
   "source": [
    "_as[5].find('span')\n"
   ]
  },
  {
   "cell_type": "code",
   "execution_count": null,
   "metadata": {},
   "outputs": [],
   "source": []
  }
 ],
 "metadata": {
  "kernelspec": {
   "display_name": "Python 3",
   "language": "python",
   "name": "python3"
  },
  "language_info": {
   "codemirror_mode": {
    "name": "ipython",
    "version": 3
   },
   "file_extension": ".py",
   "mimetype": "text/x-python",
   "name": "python",
   "nbconvert_exporter": "python",
   "pygments_lexer": "ipython3",
   "version": "3.7.3"
  }
 },
 "nbformat": 4,
 "nbformat_minor": 2
}
