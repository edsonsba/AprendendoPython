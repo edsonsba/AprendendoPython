{
 "cells": [
  {
   "cell_type": "code",
   "execution_count": 2,
   "metadata": {},
   "outputs": [],
   "source": [
    "from selenium import webdriver\n",
    "from selenium.webdriver.common.by import By\n",
    "from selenium.webdriver.common.keys import Keys\n",
    "\n",
    "facebook = webdriver.Chrome(r\"C:/Program Files (x86)/Google/Chrome/Application/chromedriver.exe\")\n",
    "facebook.get('https://www.facebook.com')"
   ]
  },
  {
   "cell_type": "code",
   "execution_count": 3,
   "metadata": {},
   "outputs": [],
   "source": [
    "facebook.find_element_by_id(\"email\").send_keys(\"edysonsba@hotmail.com\")\n"
   ]
  },
  {
   "cell_type": "code",
   "execution_count": 4,
   "metadata": {},
   "outputs": [],
   "source": [
    "facebook.find_element_by_id(\"pass\").send_keys(\"FoxEdson2018\")"
   ]
  },
  {
   "cell_type": "code",
   "execution_count": 36,
   "metadata": {},
   "outputs": [],
   "source": [
    "menu = facebook.find_element_by_id(\"u_0_a\")"
   ]
  },
  {
   "cell_type": "code",
   "execution_count": 37,
   "metadata": {},
   "outputs": [],
   "source": [
    "facebook.find_element_by_xpath('//*[@id=\"u_0_a\"]/div[1]/div[1]/div/a').click()"
   ]
  },
  {
   "cell_type": "code",
   "execution_count": 38,
   "metadata": {},
   "outputs": [],
   "source": [
    "facebook.find_element_by_name(\"q\").send_keys(\"Caronas Mococa  ↔ São Paulo\")\n",
    "facebook.find_element_by_name(\"q\").send_keys(Keys.ENTER)"
   ]
  },
  {
   "cell_type": "code",
   "execution_count": 9,
   "metadata": {},
   "outputs": [
    {
     "name": "stdout",
     "output_type": "stream",
     "text": [
      "Diária\n",
      "Diária\n"
     ]
    }
   ],
   "source": [
    "#import unidecode as un\n",
    "import re\n",
    "\n",
    "a = 'Diária'\n",
    "aa = re.sub('´','', a )\n",
    "print(a)\n",
    "print(aa)"
   ]
  },
  {
   "cell_type": "code",
   "execution_count": 15,
   "metadata": {},
   "outputs": [
    {
     "name": "stdout",
     "output_type": "stream",
     "text": [
      "Vitao Bichao da goiaba\n"
     ]
    }
   ],
   "source": [
    "import unicodedata\n",
    "s = 'Vítãó Bicháô da goiába'\n",
    "tratado = ''.join((c for c in unicodedata.normalize('NFD', s)\n",
    "                        if unicodedata.category(c) != 'Mn'))\n",
    "print(tratado)"
   ]
  },
  {
   "cell_type": "code",
   "execution_count": 11,
   "metadata": {},
   "outputs": [
    {
     "name": "stdout",
     "output_type": "stream",
     "text": [
      "Emission\n"
     ]
    }
   ],
   "source": [
    "print(search_string)"
   ]
  },
  {
   "cell_type": "code",
   "execution_count": 12,
   "metadata": {},
   "outputs": [
    {
     "ename": "ModuleNotFoundError",
     "evalue": "No module named 'unidecode'",
     "output_type": "error",
     "traceback": [
      "\u001b[1;31m-------------------------------------\u001b[0m",
      "\u001b[1;31mModuleNotFoundError\u001b[0mTraceback (most recent call last)",
      "\u001b[1;32m<ipython-input-12-d742afcfb822>\u001b[0m in \u001b[0;36m<module>\u001b[1;34m\u001b[0m\n\u001b[0;32m      1\u001b[0m \u001b[0maccented_string\u001b[0m \u001b[1;33m=\u001b[0m \u001b[1;34m'Málaga'\u001b[0m\u001b[1;33m\u001b[0m\u001b[1;33m\u001b[0m\u001b[0m\n\u001b[0;32m      2\u001b[0m \u001b[1;31m# accented_string is of type 'unicode'\u001b[0m\u001b[1;33m\u001b[0m\u001b[1;33m\u001b[0m\u001b[1;33m\u001b[0m\u001b[0m\n\u001b[1;32m----> 3\u001b[1;33m \u001b[1;32mimport\u001b[0m \u001b[0munidecode\u001b[0m\u001b[1;33m\u001b[0m\u001b[1;33m\u001b[0m\u001b[0m\n\u001b[0m\u001b[0;32m      4\u001b[0m \u001b[0munaccented_string\u001b[0m \u001b[1;33m=\u001b[0m \u001b[0munidecode\u001b[0m\u001b[1;33m.\u001b[0m\u001b[0munidecode\u001b[0m\u001b[1;33m(\u001b[0m\u001b[0maccented_string\u001b[0m\u001b[1;33m)\u001b[0m\u001b[1;33m\u001b[0m\u001b[1;33m\u001b[0m\u001b[0m\n",
      "\u001b[1;31mModuleNotFoundError\u001b[0m: No module named 'unidecode'"
     ]
    }
   ],
   "source": [
    "accented_string = 'Málaga'\n",
    "# accented_string is of type 'unicode'\n",
    "import unidecode\n",
    "unaccented_string = unidecode.unidecode(accented_string)"
   ]
  },
  {
   "cell_type": "code",
   "execution_count": 16,
   "metadata": {},
   "outputs": [
    {
     "name": "stdout",
     "output_type": "stream",
     "text": [
      "Ol voc est    \n"
     ]
    }
   ],
   "source": [
    "import re\n",
    "\n",
    "\n",
    "string_velha = (\"Olá você está ????   \")\n",
    "string_nova = re.sub(u'[^a-zA-Z0-9: ]', '', string_velha.encode().decode('utf-8'))\n",
    "print(string_nova)"
   ]
  },
  {
   "cell_type": "code",
   "execution_count": null,
   "metadata": {},
   "outputs": [],
   "source": []
  }
 ],
 "metadata": {
  "kernelspec": {
   "display_name": "Python 3",
   "language": "python",
   "name": "python3"
  },
  "language_info": {
   "codemirror_mode": {
    "name": "ipython",
    "version": 3
   },
   "file_extension": ".py",
   "mimetype": "text/x-python",
   "name": "python",
   "nbconvert_exporter": "python",
   "pygments_lexer": "ipython3",
   "version": "3.7.3"
  }
 },
 "nbformat": 4,
 "nbformat_minor": 2
}
