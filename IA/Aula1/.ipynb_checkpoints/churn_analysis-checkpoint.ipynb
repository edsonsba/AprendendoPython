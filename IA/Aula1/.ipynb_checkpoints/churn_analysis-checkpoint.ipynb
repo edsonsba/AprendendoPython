{
 "cells": [
  {
   "cell_type": "markdown",
   "metadata": {
    "colab_type": "text",
    "id": "view-in-github"
   },
   "source": [
    "<a href=\"https://colab.research.google.com/github/PedroDubas/FIA/blob/IA/churn_analysis.ipynb\" target=\"_parent\"><img src=\"https://colab.research.google.com/assets/colab-badge.svg\" alt=\"Open In Colab\"/></a>"
   ]
  },
  {
   "cell_type": "markdown",
   "metadata": {
    "colab_type": "text",
    "id": "k4YYL6HuyS6p"
   },
   "source": [
    "# Machine Learning - Churn Analysis \n",
    "by [Feliphe Galiza](https://github.com/felipheggaliza) - feliphe.ggaliza@gmail.com\n",
    "\n",
    "Ao final da aula, por favor preencha o formulário disponível em https://goo.gl/forms/oYXvepIJY3W8iXNh1 para melhorarmos o conteúdo das aulas."
   ]
  },
  {
   "cell_type": "markdown",
   "metadata": {
    "colab_type": "text",
    "id": "7sfwuybayS6t"
   },
   "source": [
    "# Churn Analysis using Scikit-Learn\n",
    "\n",
    "In this article our goal is to predict if a customer will churn or not based on past data. Furthermore, we will compute the probability of a given customer stop using the product.\n",
    "\n",
    "![title](https://www.displayr.com/wp-content/uploads/2017/07/customer-churn-edit.jpeg)\n"
   ]
  },
  {
   "cell_type": "markdown",
   "metadata": {
    "colab_type": "text",
    "id": "6zIW3KlNyS6w"
   },
   "source": [
    "### Importing tools"
   ]
  },
  {
   "cell_type": "code",
   "execution_count": 0,
   "metadata": {
    "colab": {},
    "colab_type": "code",
    "id": "fVzJbw63yS60"
   },
   "outputs": [],
   "source": [
    "import pandas as pd \n",
    "from sklearn.model_selection import train_test_split\n",
    "#teste\n",
    "from sklearn.ensemble import RandomForestClassifier\n",
    "from sklearn.neighbors import KNeighborsClassifier\n",
    "from sklearn.svm import SVC\n",
    "from sklearn.neural_network import MLPClassifier\n",
    "\n",
    "from sklearn.metrics import confusion_matrix\n",
    "from sklearn.metrics import f1_score\n",
    "from sklearn.metrics import roc_curve\n",
    "from sklearn.metrics import roc_auc_score\n",
    "import matplotlib\n",
    "import matplotlib.pyplot as plt\n",
    "import numpy as np\n",
    "from IPython.display import display, HTML"
   ]
  },
  {
   "cell_type": "markdown",
   "metadata": {
    "colab_type": "text",
    "id": "up4meOyvyS68"
   },
   "source": [
    "### Reading dataset"
   ]
  },
  {
   "cell_type": "code",
   "execution_count": 0,
   "metadata": {
    "colab": {},
    "colab_type": "code",
    "id": "Cg1LaJ9eyS6-"
   },
   "outputs": [],
   "source": [
    "DATASET_CSV = \"https://cdn2.hubspot.net/hubfs/532045/Discriminant-analysis-churn-dataset.csv\""
   ]
  },
  {
   "cell_type": "code",
   "execution_count": 0,
   "metadata": {
    "colab": {},
    "colab_type": "code",
    "id": "2aFK4xNAyS7G"
   },
   "outputs": [],
   "source": [
    "df = pd.read_csv(DATASET_CSV)"
   ]
  },
  {
   "cell_type": "markdown",
   "metadata": {
    "colab_type": "text",
    "id": "-vse2eJOyS7M"
   },
   "source": [
    "### Exploratory Analysis\n",
    "This step is very important for any Machine Learning or Deep Learning task. You have to look at your data in order to better understand it. The data may need some adjusts in order to improve the AI algorithm performance, sometimes preprocessing is also needed."
   ]
  },
  {
   "cell_type": "code",
   "execution_count": 0,
   "metadata": {
    "colab": {
     "base_uri": "https://localhost:8080/",
     "height": 375
    },
    "colab_type": "code",
    "id": "DAShoFGkyS7O",
    "outputId": "29dc7b6e-e9cf-41c1-832d-3da8ca5f5343"
   },
   "outputs": [
    {
     "data": {
      "text/html": [
       "<div>\n",
       "<style scoped>\n",
       "    .dataframe tbody tr th:only-of-type {\n",
       "        vertical-align: middle;\n",
       "    }\n",
       "\n",
       "    .dataframe tbody tr th {\n",
       "        vertical-align: top;\n",
       "    }\n",
       "\n",
       "    .dataframe thead th {\n",
       "        text-align: right;\n",
       "    }\n",
       "</style>\n",
       "<table border=\"1\" class=\"dataframe\">\n",
       "  <thead>\n",
       "    <tr style=\"text-align: right;\">\n",
       "      <th></th>\n",
       "      <th>account_length</th>\n",
       "      <th>number_vmail_messages</th>\n",
       "      <th>total_day_charge</th>\n",
       "      <th>total_eve_charge</th>\n",
       "      <th>total_night_charge</th>\n",
       "      <th>total_intl_charge</th>\n",
       "      <th>number_customer_service_calls</th>\n",
       "      <th>churn</th>\n",
       "    </tr>\n",
       "  </thead>\n",
       "  <tbody>\n",
       "    <tr>\n",
       "      <th>0</th>\n",
       "      <td>128</td>\n",
       "      <td>25</td>\n",
       "      <td>45.07</td>\n",
       "      <td>16.78</td>\n",
       "      <td>11.01</td>\n",
       "      <td>2.70</td>\n",
       "      <td>1</td>\n",
       "      <td>0</td>\n",
       "    </tr>\n",
       "    <tr>\n",
       "      <th>1</th>\n",
       "      <td>107</td>\n",
       "      <td>26</td>\n",
       "      <td>27.47</td>\n",
       "      <td>16.62</td>\n",
       "      <td>11.45</td>\n",
       "      <td>3.70</td>\n",
       "      <td>1</td>\n",
       "      <td>0</td>\n",
       "    </tr>\n",
       "    <tr>\n",
       "      <th>2</th>\n",
       "      <td>137</td>\n",
       "      <td>0</td>\n",
       "      <td>41.38</td>\n",
       "      <td>10.30</td>\n",
       "      <td>7.32</td>\n",
       "      <td>3.29</td>\n",
       "      <td>0</td>\n",
       "      <td>0</td>\n",
       "    </tr>\n",
       "    <tr>\n",
       "      <th>3</th>\n",
       "      <td>84</td>\n",
       "      <td>0</td>\n",
       "      <td>50.90</td>\n",
       "      <td>5.26</td>\n",
       "      <td>8.86</td>\n",
       "      <td>1.78</td>\n",
       "      <td>2</td>\n",
       "      <td>0</td>\n",
       "    </tr>\n",
       "    <tr>\n",
       "      <th>4</th>\n",
       "      <td>75</td>\n",
       "      <td>0</td>\n",
       "      <td>28.34</td>\n",
       "      <td>12.61</td>\n",
       "      <td>8.41</td>\n",
       "      <td>2.73</td>\n",
       "      <td>3</td>\n",
       "      <td>0</td>\n",
       "    </tr>\n",
       "    <tr>\n",
       "      <th>5</th>\n",
       "      <td>118</td>\n",
       "      <td>0</td>\n",
       "      <td>37.98</td>\n",
       "      <td>18.75</td>\n",
       "      <td>9.18</td>\n",
       "      <td>1.70</td>\n",
       "      <td>0</td>\n",
       "      <td>0</td>\n",
       "    </tr>\n",
       "    <tr>\n",
       "      <th>6</th>\n",
       "      <td>121</td>\n",
       "      <td>24</td>\n",
       "      <td>37.09</td>\n",
       "      <td>29.62</td>\n",
       "      <td>9.57</td>\n",
       "      <td>2.03</td>\n",
       "      <td>3</td>\n",
       "      <td>0</td>\n",
       "    </tr>\n",
       "    <tr>\n",
       "      <th>7</th>\n",
       "      <td>147</td>\n",
       "      <td>0</td>\n",
       "      <td>26.69</td>\n",
       "      <td>8.76</td>\n",
       "      <td>9.53</td>\n",
       "      <td>1.92</td>\n",
       "      <td>0</td>\n",
       "      <td>0</td>\n",
       "    </tr>\n",
       "    <tr>\n",
       "      <th>8</th>\n",
       "      <td>117</td>\n",
       "      <td>0</td>\n",
       "      <td>31.37</td>\n",
       "      <td>29.89</td>\n",
       "      <td>9.71</td>\n",
       "      <td>2.35</td>\n",
       "      <td>1</td>\n",
       "      <td>0</td>\n",
       "    </tr>\n",
       "    <tr>\n",
       "      <th>9</th>\n",
       "      <td>141</td>\n",
       "      <td>37</td>\n",
       "      <td>43.96</td>\n",
       "      <td>18.87</td>\n",
       "      <td>14.69</td>\n",
       "      <td>3.02</td>\n",
       "      <td>0</td>\n",
       "      <td>0</td>\n",
       "    </tr>\n",
       "  </tbody>\n",
       "</table>\n",
       "</div>"
      ],
      "text/plain": [
       "   account_length  number_vmail_messages  total_day_charge  total_eve_charge  \\\n",
       "0             128                     25             45.07             16.78   \n",
       "1             107                     26             27.47             16.62   \n",
       "2             137                      0             41.38             10.30   \n",
       "3              84                      0             50.90              5.26   \n",
       "4              75                      0             28.34             12.61   \n",
       "5             118                      0             37.98             18.75   \n",
       "6             121                     24             37.09             29.62   \n",
       "7             147                      0             26.69              8.76   \n",
       "8             117                      0             31.37             29.89   \n",
       "9             141                     37             43.96             18.87   \n",
       "\n",
       "   total_night_charge  total_intl_charge  number_customer_service_calls  churn  \n",
       "0               11.01               2.70                              1      0  \n",
       "1               11.45               3.70                              1      0  \n",
       "2                7.32               3.29                              0      0  \n",
       "3                8.86               1.78                              2      0  \n",
       "4                8.41               2.73                              3      0  \n",
       "5                9.18               1.70                              0      0  \n",
       "6                9.57               2.03                              3      0  \n",
       "7                9.53               1.92                              0      0  \n",
       "8                9.71               2.35                              1      0  \n",
       "9               14.69               3.02                              0      0  "
      ]
     },
     "execution_count": 4,
     "metadata": {
      "tags": []
     },
     "output_type": "execute_result"
    }
   ],
   "source": [
    "df.head(10)"
   ]
  },
  {
   "cell_type": "code",
   "execution_count": 0,
   "metadata": {
    "colab": {
     "base_uri": "https://localhost:8080/",
     "height": 35
    },
    "colab_type": "code",
    "id": "yr8GRPJayS7U",
    "outputId": "2ecaf622-3fb7-43e9-c6fb-fef9194360c2"
   },
   "outputs": [
    {
     "name": "stdout",
     "output_type": "stream",
     "text": [
      "Number of rows:  5000\n"
     ]
    }
   ],
   "source": [
    "print(\"Number of rows: \", df.shape[0])"
   ]
  },
  {
   "cell_type": "markdown",
   "metadata": {
    "colab_type": "text",
    "id": "W74g7rVkyS7f"
   },
   "source": [
    "### Do we have any problems with our dataset?"
   ]
  },
  {
   "cell_type": "code",
   "execution_count": 0,
   "metadata": {
    "colab": {
     "base_uri": "https://localhost:8080/",
     "height": 173
    },
    "colab_type": "code",
    "id": "kQ4h-YOAyS7h",
    "outputId": "754a127c-c6ef-4017-e4cc-2b179f3b1938"
   },
   "outputs": [
    {
     "data": {
      "text/plain": [
       "account_length                   5000.0\n",
       "number_vmail_messages            5000.0\n",
       "total_day_charge                 5000.0\n",
       "total_eve_charge                 5000.0\n",
       "total_night_charge               5000.0\n",
       "total_intl_charge                5000.0\n",
       "number_customer_service_calls    5000.0\n",
       "churn                            5000.0\n",
       "Name: count, dtype: float64"
      ]
     },
     "execution_count": 45,
     "metadata": {
      "tags": []
     },
     "output_type": "execute_result"
    }
   ],
   "source": [
    "df.describe().loc['count']"
   ]
  },
  {
   "cell_type": "markdown",
   "metadata": {
    "colab_type": "text",
    "id": "Wm5PaFx3Euc9"
   },
   "source": [
    "### Features Correlation Matrix\n"
   ]
  },
  {
   "cell_type": "code",
   "execution_count": 0,
   "metadata": {
    "colab": {
     "base_uri": "https://localhost:8080/",
     "height": 314
    },
    "colab_type": "code",
    "id": "zY3C3Qo3ETn4",
    "outputId": "97c72ba7-3189-4569-8237-ce357ca66443"
   },
   "outputs": [
    {
     "data": {
      "text/html": [
       "<div>\n",
       "<style scoped>\n",
       "    .dataframe tbody tr th:only-of-type {\n",
       "        vertical-align: middle;\n",
       "    }\n",
       "\n",
       "    .dataframe tbody tr th {\n",
       "        vertical-align: top;\n",
       "    }\n",
       "\n",
       "    .dataframe thead th {\n",
       "        text-align: right;\n",
       "    }\n",
       "</style>\n",
       "<table border=\"1\" class=\"dataframe\">\n",
       "  <thead>\n",
       "    <tr style=\"text-align: right;\">\n",
       "      <th></th>\n",
       "      <th>account_length</th>\n",
       "      <th>number_vmail_messages</th>\n",
       "      <th>total_day_charge</th>\n",
       "      <th>total_eve_charge</th>\n",
       "      <th>total_night_charge</th>\n",
       "      <th>total_intl_charge</th>\n",
       "      <th>number_customer_service_calls</th>\n",
       "      <th>churn</th>\n",
       "    </tr>\n",
       "  </thead>\n",
       "  <tbody>\n",
       "    <tr>\n",
       "      <th>account_length</th>\n",
       "      <td>1.000000</td>\n",
       "      <td>-0.014575</td>\n",
       "      <td>-0.001019</td>\n",
       "      <td>-0.009587</td>\n",
       "      <td>0.000656</td>\n",
       "      <td>0.001292</td>\n",
       "      <td>-0.001445</td>\n",
       "      <td>0.021203</td>\n",
       "    </tr>\n",
       "    <tr>\n",
       "      <th>number_vmail_messages</th>\n",
       "      <td>-0.014575</td>\n",
       "      <td>1.000000</td>\n",
       "      <td>0.005377</td>\n",
       "      <td>0.019496</td>\n",
       "      <td>0.005535</td>\n",
       "      <td>0.002505</td>\n",
       "      <td>-0.007086</td>\n",
       "      <td>-0.097633</td>\n",
       "    </tr>\n",
       "    <tr>\n",
       "      <th>total_day_charge</th>\n",
       "      <td>-0.001019</td>\n",
       "      <td>0.005377</td>\n",
       "      <td>1.000000</td>\n",
       "      <td>-0.010757</td>\n",
       "      <td>0.011785</td>\n",
       "      <td>-0.019419</td>\n",
       "      <td>0.002726</td>\n",
       "      <td>0.207700</td>\n",
       "    </tr>\n",
       "    <tr>\n",
       "      <th>total_eve_charge</th>\n",
       "      <td>-0.009587</td>\n",
       "      <td>0.019496</td>\n",
       "      <td>-0.010757</td>\n",
       "      <td>1.000000</td>\n",
       "      <td>-0.016652</td>\n",
       "      <td>0.000155</td>\n",
       "      <td>-0.013836</td>\n",
       "      <td>0.089282</td>\n",
       "    </tr>\n",
       "    <tr>\n",
       "      <th>total_night_charge</th>\n",
       "      <td>0.000656</td>\n",
       "      <td>0.005535</td>\n",
       "      <td>0.011785</td>\n",
       "      <td>-0.016652</td>\n",
       "      <td>1.000000</td>\n",
       "      <td>-0.006650</td>\n",
       "      <td>-0.008530</td>\n",
       "      <td>0.045673</td>\n",
       "    </tr>\n",
       "    <tr>\n",
       "      <th>total_intl_charge</th>\n",
       "      <td>0.001292</td>\n",
       "      <td>0.002505</td>\n",
       "      <td>-0.019419</td>\n",
       "      <td>0.000155</td>\n",
       "      <td>-0.006650</td>\n",
       "      <td>1.000000</td>\n",
       "      <td>-0.012180</td>\n",
       "      <td>0.063275</td>\n",
       "    </tr>\n",
       "    <tr>\n",
       "      <th>number_customer_service_calls</th>\n",
       "      <td>-0.001445</td>\n",
       "      <td>-0.007086</td>\n",
       "      <td>0.002726</td>\n",
       "      <td>-0.013836</td>\n",
       "      <td>-0.008530</td>\n",
       "      <td>-0.012180</td>\n",
       "      <td>1.000000</td>\n",
       "      <td>0.212564</td>\n",
       "    </tr>\n",
       "    <tr>\n",
       "      <th>churn</th>\n",
       "      <td>0.021203</td>\n",
       "      <td>-0.097633</td>\n",
       "      <td>0.207700</td>\n",
       "      <td>0.089282</td>\n",
       "      <td>0.045673</td>\n",
       "      <td>0.063275</td>\n",
       "      <td>0.212564</td>\n",
       "      <td>1.000000</td>\n",
       "    </tr>\n",
       "  </tbody>\n",
       "</table>\n",
       "</div>"
      ],
      "text/plain": [
       "                               account_length  number_vmail_messages  \\\n",
       "account_length                       1.000000              -0.014575   \n",
       "number_vmail_messages               -0.014575               1.000000   \n",
       "total_day_charge                    -0.001019               0.005377   \n",
       "total_eve_charge                    -0.009587               0.019496   \n",
       "total_night_charge                   0.000656               0.005535   \n",
       "total_intl_charge                    0.001292               0.002505   \n",
       "number_customer_service_calls       -0.001445              -0.007086   \n",
       "churn                                0.021203              -0.097633   \n",
       "\n",
       "                               total_day_charge  total_eve_charge  \\\n",
       "account_length                        -0.001019         -0.009587   \n",
       "number_vmail_messages                  0.005377          0.019496   \n",
       "total_day_charge                       1.000000         -0.010757   \n",
       "total_eve_charge                      -0.010757          1.000000   \n",
       "total_night_charge                     0.011785         -0.016652   \n",
       "total_intl_charge                     -0.019419          0.000155   \n",
       "number_customer_service_calls          0.002726         -0.013836   \n",
       "churn                                  0.207700          0.089282   \n",
       "\n",
       "                               total_night_charge  total_intl_charge  \\\n",
       "account_length                           0.000656           0.001292   \n",
       "number_vmail_messages                    0.005535           0.002505   \n",
       "total_day_charge                         0.011785          -0.019419   \n",
       "total_eve_charge                        -0.016652           0.000155   \n",
       "total_night_charge                       1.000000          -0.006650   \n",
       "total_intl_charge                       -0.006650           1.000000   \n",
       "number_customer_service_calls           -0.008530          -0.012180   \n",
       "churn                                    0.045673           0.063275   \n",
       "\n",
       "                               number_customer_service_calls     churn  \n",
       "account_length                                     -0.001445  0.021203  \n",
       "number_vmail_messages                              -0.007086 -0.097633  \n",
       "total_day_charge                                    0.002726  0.207700  \n",
       "total_eve_charge                                   -0.013836  0.089282  \n",
       "total_night_charge                                 -0.008530  0.045673  \n",
       "total_intl_charge                                  -0.012180  0.063275  \n",
       "number_customer_service_calls                       1.000000  0.212564  \n",
       "churn                                               0.212564  1.000000  "
      ]
     },
     "execution_count": 46,
     "metadata": {
      "tags": []
     },
     "output_type": "execute_result"
    }
   ],
   "source": [
    "df.corr()"
   ]
  },
  {
   "cell_type": "markdown",
   "metadata": {
    "colab_type": "text",
    "id": "5k1utQ64yS7s"
   },
   "source": [
    "## Preprocessing"
   ]
  },
  {
   "cell_type": "markdown",
   "metadata": {
    "colab_type": "text",
    "id": "tbYisApnyS79"
   },
   "source": [
    "## Dropping target column from features and train test split"
   ]
  },
  {
   "cell_type": "code",
   "execution_count": 0,
   "metadata": {
    "colab": {},
    "colab_type": "code",
    "id": "Zee5zoFzyS7_"
   },
   "outputs": [],
   "source": [
    "features = df.drop([\"churn\"], axis=1).columns"
   ]
  },
  {
   "cell_type": "code",
   "execution_count": 0,
   "metadata": {
    "colab": {
     "base_uri": "https://localhost:8080/",
     "height": 87
    },
    "colab_type": "code",
    "id": "A48l545myS8F",
    "outputId": "da71cea4-57c8-4442-f316-1054b4a288dc"
   },
   "outputs": [
    {
     "name": "stdout",
     "output_type": "stream",
     "text": [
      "Index(['account_length', 'number_vmail_messages', 'total_day_charge',\n",
      "       'total_eve_charge', 'total_night_charge', 'total_intl_charge',\n",
      "       'number_customer_service_calls'],\n",
      "      dtype='object')\n"
     ]
    }
   ],
   "source": [
    "print(features)"
   ]
  },
  {
   "cell_type": "code",
   "execution_count": 0,
   "metadata": {
    "colab": {},
    "colab_type": "code",
    "id": "ULkTqz1kyS8M"
   },
   "outputs": [],
   "source": [
    "df_train, df_test = train_test_split(df, test_size=0.25)"
   ]
  },
  {
   "cell_type": "code",
   "execution_count": 0,
   "metadata": {
    "colab": {
     "base_uri": "https://localhost:8080/",
     "height": 52
    },
    "colab_type": "code",
    "id": "MvY-ipSMyS8R",
    "outputId": "7178df6a-b473-4e3b-fe4d-99ea38f4bb2f"
   },
   "outputs": [
    {
     "name": "stdout",
     "output_type": "stream",
     "text": [
      "Train set has 3750 examples and 8 features\n",
      "Test set has 1250 examples and 8 features\n"
     ]
    }
   ],
   "source": [
    "print(\"Train set has {} examples and {} features\".format(df_train.shape[0],df_train.shape[1]))\n",
    "print(\"Test set has {} examples and {} features\".format(df_test.shape[0],df_train.shape[1]))"
   ]
  },
  {
   "cell_type": "markdown",
   "metadata": {
    "colab_type": "text",
    "id": "V8JZIrlkyS8V"
   },
   "source": [
    "## Training and evaluation"
   ]
  },
  {
   "cell_type": "code",
   "execution_count": 0,
   "metadata": {
    "colab": {},
    "colab_type": "code",
    "id": "aK3C01eVyS8X"
   },
   "outputs": [],
   "source": [
    "def train_classifier(clf, features, train_targets):\n",
    "    clf.fit(features, train_targets)\n",
    "    return clf"
   ]
  },
  {
   "cell_type": "code",
   "execution_count": 0,
   "metadata": {
    "colab": {},
    "colab_type": "code",
    "id": "cbiJg8xCyS8h"
   },
   "outputs": [],
   "source": [
    "def make_predictions(clf, features):\n",
    "    predictions = clf.predict(features)\n",
    "    probs = clf.predict_proba(features)\n",
    "    return predictions, probs"
   ]
  },
  {
   "cell_type": "code",
   "execution_count": 0,
   "metadata": {
    "colab": {},
    "colab_type": "code",
    "id": "n4ytlSgMyS8m"
   },
   "outputs": [],
   "source": [
    "def evaluate_clf(clf,features, test_targets):\n",
    "    score = clf.score(features, test_targets)\n",
    "    return score"
   ]
  },
  {
   "cell_type": "code",
   "execution_count": 0,
   "metadata": {
    "colab": {},
    "colab_type": "code",
    "id": "fo93v-VpyS8t"
   },
   "outputs": [],
   "source": [
    "def get_confusion_matrix(test_targets, predictions):\n",
    "    conf_matrix = pd.DataFrame(\n",
    "        confusion_matrix(test_targets, predictions), \n",
    "        columns=[\"Predicted False\", \"Predicted True\"], \n",
    "        index=[\"Actual False\", \"Actual True\"]\n",
    "    )\n",
    "    return conf_matrix"
   ]
  },
  {
   "cell_type": "code",
   "execution_count": 0,
   "metadata": {
    "colab": {},
    "colab_type": "code",
    "id": "bfX1LvGzyS8z"
   },
   "outputs": [],
   "source": [
    "def plot_roc_curve(targets_test,probs):\n",
    "    fpr, tpr, threshold = roc_curve(targets_test, probs[:,1])\n",
    "    plt.title('Receiver Operating Characteristic')\n",
    "    plt.plot(fpr, tpr, 'b')\n",
    "    plt.plot([0, 1], [0, 1],'r--')\n",
    "    plt.xlim([0, 1])\n",
    "    plt.ylim([0, 1])\n",
    "    plt.ylabel('True Positive Rate')\n",
    "    plt.xlabel('False Positive Rate')\n",
    "    plt.show()"
   ]
  },
  {
   "cell_type": "code",
   "execution_count": 0,
   "metadata": {
    "colab": {},
    "colab_type": "code",
    "id": "DCCD4mnKyS84"
   },
   "outputs": [],
   "source": [
    "def plot_features_importance(clf):\n",
    "    fig = plt.figure(figsize=(20, 18))\n",
    "    ax = fig.add_subplot(111)\n",
    "\n",
    "    df_f = pd.DataFrame(clf.feature_importances_, columns=[\"importance\"])\n",
    "    df_f[\"labels\"] = features\n",
    "    df_f.sort_values(\"importance\", inplace=True, ascending=False)\n",
    "    display(df_f.head(5))\n",
    "\n",
    "    index = np.arange(len(clf.feature_importances_))\n",
    "    bar_width = 0.5\n",
    "    rects = plt.barh(index , df_f[\"importance\"], bar_width, alpha=0.4, color='b', label='Main')\n",
    "    plt.yticks(index, df_f[\"labels\"])\n",
    "    plt.show()"
   ]
  },
  {
   "cell_type": "markdown",
   "metadata": {
    "colab_type": "text",
    "id": "PrmDZoldyS8-"
   },
   "source": [
    "# Setting number of CPUs in Scikit-Learn\n",
    "\n",
    "In order to better understand how to get the most out of your Intel CPU it is also important look at the documentation of the library you are using and set some flags that might be important to get best performance.\n",
    "\n",
    "Special attention for n_jobs :\n",
    "\n",
    "   - KNN: The number of parallel jobs to run for neighbors search. If -1, then the number of jobs is set to the number of CPU cores.\n",
    "   - Random Forest: The number of jobs to run in parallel for both fit and predict. If -1, then the number of jobs is set to the number of cores. (default=1)\n",
    "\n",
    "# Training Classifiers\n",
    "\n",
    "He we are going to evaluate 3 different Classification Algorithms:\n",
    "\n",
    "- K-Nearest Neighboors (KNN)\n",
    "- Random Forest\n",
    "- Support Vector Machines (SVM)\n"
   ]
  },
  {
   "cell_type": "code",
   "execution_count": 0,
   "metadata": {
    "colab": {},
    "colab_type": "code",
    "id": "O2Gz1zI_yS8_"
   },
   "outputs": [],
   "source": [
    "knnClf = KNeighborsClassifier(n_neighbors=4, n_jobs=-1)\n",
    "knnClf = train_classifier(knnClf, df_train[features], df_train[\"churn\"] )"
   ]
  },
  {
   "cell_type": "code",
   "execution_count": 0,
   "metadata": {
    "colab": {},
    "colab_type": "code",
    "id": "RxHZ_JbqyS9D"
   },
   "outputs": [],
   "source": [
    "randForestClf = RandomForestClassifier(n_estimators=30, n_jobs=-1)\n",
    "randForestClf = train_classifier(randForestClf, df_train[features], df_train[\"churn\"] )"
   ]
  },
  {
   "cell_type": "code",
   "execution_count": 0,
   "metadata": {
    "colab": {},
    "colab_type": "code",
    "id": "bjz76A01yS9F"
   },
   "outputs": [],
   "source": [
    "svmClf =SVC(kernel='rbf', random_state=0, gamma=.01, C=1, probability=True)\n",
    "svmClf = train_classifier(svmClf, df_train[features], df_train[\"churn\"] )"
   ]
  },
  {
   "cell_type": "code",
   "execution_count": 0,
   "metadata": {
    "colab": {},
    "colab_type": "code",
    "id": "3C0E-icY_J50"
   },
   "outputs": [],
   "source": [
    "mlpClf = MLPClassifier(solver='lbfgs',activation='relu', alpha=1e-5,\n",
    "                       hidden_layer_sizes=(10, 15, 10), random_state=1)\n",
    "mlpClf = train_classifier(mlpClf, df_train[features], df_train[\"churn\"] )"
   ]
  },
  {
   "cell_type": "markdown",
   "metadata": {
    "colab_type": "text",
    "id": "fvU7pjp_yS9P"
   },
   "source": [
    "## Performing some predictions"
   ]
  },
  {
   "cell_type": "code",
   "execution_count": 0,
   "metadata": {
    "colab": {},
    "colab_type": "code",
    "id": "dvQl5Cl-yS9R"
   },
   "outputs": [],
   "source": [
    "knnPreds, knnProbs = make_predictions(knnClf, df_test[features])\n",
    "randForestPreds, randForestProbs = make_predictions(randForestClf, df_test[features])\n",
    "svmPreds, svmProbs = make_predictions(svmClf, df_test[features])\n",
    "mlpPreds, mlpProbs = make_predictions(mlpClf, df_test[features])"
   ]
  },
  {
   "cell_type": "code",
   "execution_count": 0,
   "metadata": {
    "colab": {
     "base_uri": "https://localhost:8080/",
     "height": 191
    },
    "colab_type": "code",
    "id": "2-QOkshAyS9U",
    "outputId": "309e932c-e41e-4c55-f04c-ac9663baed25"
   },
   "outputs": [
    {
     "name": "stdout",
     "output_type": "stream",
     "text": [
      "knnPreds [0 0 0 0 0 0 0 0 0 0] \n",
      "\n",
      "randForestPreds [0 0 0 1 0 0 0 0 0 0] \n",
      "\n",
      "svmPreds [0 0 0 1 0 0 0 0 0 0] \n",
      "\n",
      "mlpPreds [0 0 0 1 0 0 0 0 0 0] \n",
      "\n",
      "Truth [0, 1, 0, 0, 0, 0, 0, 0, 0, 0] \n",
      "\n"
     ]
    }
   ],
   "source": [
    "print(\"knnPreds {} \\n\".format(knnPreds[0:10]))\n",
    "print(\"randForestPreds {} \\n\".format(randForestPreds[0:10]))\n",
    "print(\"svmPreds {} \\n\".format(svmPreds[0:10]))\n",
    "print(\"mlpPreds {} \\n\".format(mlpPreds[0:10]))\n",
    "print(\"Truth {} \\n\".format(df_train[\"churn\"].tolist()[0:10]))"
   ]
  },
  {
   "cell_type": "markdown",
   "metadata": {
    "colab_type": "text",
    "id": "8KDEvDoayS9X"
   },
   "source": [
    "## Evaluating Classifiers "
   ]
  },
  {
   "cell_type": "code",
   "execution_count": 0,
   "metadata": {
    "colab": {},
    "colab_type": "code",
    "id": "6zHQLtDDyS9Y"
   },
   "outputs": [],
   "source": [
    "knnEval = evaluate_clf(knnClf, df_test[features], df_test[\"churn\"])\n",
    "randForestEval = evaluate_clf(randForestClf, df_test[features], df_test[\"churn\"])\n",
    "svmEval = evaluate_clf(svmClf, df_test[features], df_test[\"churn\"])\n",
    "mlpEval = evaluate_clf(mlpClf, df_test[features], df_test[\"churn\"])\n"
   ]
  },
  {
   "cell_type": "code",
   "execution_count": 0,
   "metadata": {
    "colab": {
     "base_uri": "https://localhost:8080/",
     "height": 87
    },
    "colab_type": "code",
    "id": "KP5CuKVByS9b",
    "outputId": "9263fd07-38d1-4a78-93d0-7f3e3457874a"
   },
   "outputs": [
    {
     "name": "stdout",
     "output_type": "stream",
     "text": [
      "knnEval 0.8944\n",
      "randForestEval 0.9264\n",
      "svmEval 0.9056\n",
      "mlpEval 0.9032\n"
     ]
    }
   ],
   "source": [
    "print(\"knnEval {}\".format(knnEval))\n",
    "print(\"randForestEval {}\".format(randForestEval))\n",
    "print(\"svmEval {}\".format(svmEval))\n",
    "print(\"mlpEval {}\".format(mlpEval))"
   ]
  },
  {
   "cell_type": "markdown",
   "metadata": {
    "colab_type": "text",
    "id": "NXXtQT1gE4KJ"
   },
   "source": [
    "### F1-Score\n"
   ]
  },
  {
   "cell_type": "code",
   "execution_count": 0,
   "metadata": {
    "colab": {
     "base_uri": "https://localhost:8080/",
     "height": 87
    },
    "colab_type": "code",
    "id": "A5W8pqa3CYyf",
    "outputId": "7f4bff0f-10c7-412f-ac0b-370a857a4972"
   },
   "outputs": [
    {
     "name": "stdout",
     "output_type": "stream",
     "text": [
      "KNN F1-Score: 0.3888888888888889\n",
      "Random Forest F1-Score: 0.640625\n",
      "SVM F1-Score: 0.4732142857142857\n",
      "MLP F1-Score: 0.489451476793249\n"
     ]
    }
   ],
   "source": [
    "print(\"KNN F1-Score: {}\".format(f1_score(df_test[\"churn\"], knnClf.predict(df_test[features]))))\n",
    "print(\"Random Forest F1-Score: {}\".format(f1_score(df_test[\"churn\"], randForestClf.predict(df_test[features]))))\n",
    "print(\"SVM F1-Score: {}\".format(f1_score(df_test[\"churn\"], svmClf.predict(df_test[features]))))\n",
    "print(\"MLP F1-Score: {}\".format(f1_score(df_test[\"churn\"], mlpClf.predict(df_test[features]))))"
   ]
  },
  {
   "cell_type": "markdown",
   "metadata": {
    "colab_type": "text",
    "id": "uAKTrCZcE6aM"
   },
   "source": [
    "### ROC AUC Score\n"
   ]
  },
  {
   "cell_type": "code",
   "execution_count": 0,
   "metadata": {
    "colab": {
     "base_uri": "https://localhost:8080/",
     "height": 87
    },
    "colab_type": "code",
    "id": "nLV2aLnRDteq",
    "outputId": "282092d3-cb6d-4a3f-9615-2c4583657d55"
   },
   "outputs": [
    {
     "name": "stdout",
     "output_type": "stream",
     "text": [
      "KNN ROC AUC Score: 0.6237745582201252\n",
      "Random Forest ROC AUC Score: 0.7464739447231926\n",
      "SVM ROC AUC Score: 0.6588968343106766\n",
      "MLP ROC AUC Score: 0.6705544048176723\n"
     ]
    }
   ],
   "source": [
    "\n",
    "print(\"KNN ROC AUC Score: {}\".format(roc_auc_score(df_test[\"churn\"], knnClf.predict(df_test[features]))))\n",
    "print(\"Random Forest ROC AUC Score: {}\".format(roc_auc_score(df_test[\"churn\"], randForestClf.predict(df_test[features]))))\n",
    "print(\"SVM ROC AUC Score: {}\".format(roc_auc_score(df_test[\"churn\"], svmClf.predict(df_test[features]))))\n",
    "print(\"MLP ROC AUC Score: {}\".format(roc_auc_score(df_test[\"churn\"], mlpClf.predict(df_test[features]))))"
   ]
  },
  {
   "cell_type": "markdown",
   "metadata": {
    "colab_type": "text",
    "id": "phAHxHUEE_sm"
   },
   "source": [
    "### Confusion Matrix"
   ]
  },
  {
   "cell_type": "code",
   "execution_count": 0,
   "metadata": {
    "colab": {
     "base_uri": "https://localhost:8080/",
     "height": 69
    },
    "colab_type": "code",
    "id": "pTrWRXHNyS9j",
    "outputId": "652f466d-3f0c-475f-f89c-80dde79704be"
   },
   "outputs": [
    {
     "name": "stdout",
     "output_type": "stream",
     "text": [
      "              Predicted False  Predicted True\n",
      "Actual False             1076              11\n",
      "Actual True               121              42\n"
     ]
    }
   ],
   "source": [
    "confMatKNN = get_confusion_matrix(df_test[\"churn\"], knnPreds)\n",
    "print(confMatKNN)"
   ]
  },
  {
   "cell_type": "code",
   "execution_count": 0,
   "metadata": {
    "colab": {
     "base_uri": "https://localhost:8080/",
     "height": 69
    },
    "colab_type": "code",
    "id": "HtqXHPs-yS9l",
    "outputId": "ab79577c-2237-4237-d11d-481738959c5c"
   },
   "outputs": [
    {
     "name": "stdout",
     "output_type": "stream",
     "text": [
      "              Predicted False  Predicted True\n",
      "Actual False             1076              11\n",
      "Actual True                81              82\n"
     ]
    }
   ],
   "source": [
    "confMatrandForest = get_confusion_matrix(df_test[\"churn\"], randForestPreds)\n",
    "print(confMatrandForest)"
   ]
  },
  {
   "cell_type": "code",
   "execution_count": 0,
   "metadata": {
    "colab": {
     "base_uri": "https://localhost:8080/",
     "height": 69
    },
    "colab_type": "code",
    "id": "ag59DrJeyS9z",
    "outputId": "024b4d1a-7777-4e17-9bee-684d7ff5c3d4"
   },
   "outputs": [
    {
     "name": "stdout",
     "output_type": "stream",
     "text": [
      "              Predicted False  Predicted True\n",
      "Actual False             1079               8\n",
      "Actual True               110              53\n"
     ]
    }
   ],
   "source": [
    "confMatSVM= get_confusion_matrix(df_test[\"churn\"], svmPreds)\n",
    "print(confMatSVM)"
   ]
  },
  {
   "cell_type": "code",
   "execution_count": 0,
   "metadata": {
    "colab": {
     "base_uri": "https://localhost:8080/",
     "height": 69
    },
    "colab_type": "code",
    "id": "qrdeRXBdBlvQ",
    "outputId": "e4db7040-34a4-440d-c957-686a88451d4c"
   },
   "outputs": [
    {
     "name": "stdout",
     "output_type": "stream",
     "text": [
      "              Predicted False  Predicted True\n",
      "Actual False             1071              16\n",
      "Actual True               105              58\n"
     ]
    }
   ],
   "source": [
    "confMatMLP= get_confusion_matrix(df_test[\"churn\"], mlpPreds)\n",
    "print(confMatMLP)"
   ]
  },
  {
   "cell_type": "code",
   "execution_count": 0,
   "metadata": {
    "colab": {
     "base_uri": "https://localhost:8080/",
     "height": 377
    },
    "colab_type": "code",
    "id": "pqWHgYluyS95",
    "outputId": "6fff6155-1668-4d3e-c95e-d144ae45d20c"
   },
   "outputs": [
    {
     "data": {
      "image/png": "[encoded data removed]",
      "text/plain": [
       "<Figure size 576x396 with 1 Axes>"
      ]
     },
     "metadata": {
      "tags": []
     },
     "output_type": "display_data"
    }
   ],
   "source": [
    "plot_roc_curve(df_test[\"churn\"], knnProbs)"
   ]
  },
  {
   "cell_type": "code",
   "execution_count": 0,
   "metadata": {
    "colab": {
     "base_uri": "https://localhost:8080/",
     "height": 377
    },
    "colab_type": "code",
    "id": "vLLKzAY2yS9-",
    "outputId": "63832e5b-c3f0-4d64-a94b-be7ebb56004e"
   },
   "outputs": [
    {
     "data": {
      "image/png": "[encoded data removed]",
      "text/plain": [
       "<Figure size 576x396 with 1 Axes>"
      ]
     },
     "metadata": {
      "tags": []
     },
     "output_type": "display_data"
    }
   ],
   "source": [
    "plot_roc_curve(df_test[\"churn\"], randForestProbs)"
   ]
  },
  {
   "cell_type": "code",
   "execution_count": 0,
   "metadata": {
    "colab": {
     "base_uri": "https://localhost:8080/",
     "height": 377
    },
    "colab_type": "code",
    "id": "fUr4Ci0uyS-H",
    "outputId": "c2e1bf98-2e77-459d-af58-5bc1ddb68c3f"
   },
   "outputs": [
    {
     "data": {
      "image/png": "[encoded data removed]",
      "text/plain": [
       "<Figure size 576x396 with 1 Axes>"
      ]
     },
     "metadata": {
      "tags": []
     },
     "output_type": "display_data"
    }
   ],
   "source": [
    "plot_roc_curve(df_test[\"churn\"], svmProbs)"
   ]
  },
  {
   "cell_type": "code",
   "execution_count": 0,
   "metadata": {
    "colab": {
     "base_uri": "https://localhost:8080/",
     "height": 377
    },
    "colab_type": "code",
    "id": "TCPG73wEB-lx",
    "outputId": "a4247add-df4d-498e-e898-9bf7a5044b16"
   },
   "outputs": [
    {
     "data": {
      "image/png": "[encoded data removed]",
      "text/plain": [
       "<Figure size 576x396 with 1 Axes>"
      ]
     },
     "metadata": {
      "tags": []
     },
     "output_type": "display_data"
    }
   ],
   "source": [
    "plot_roc_curve(df_test[\"churn\"], mlpProbs)"
   ]
  },
  {
   "cell_type": "code",
   "execution_count": 0,
   "metadata": {
    "colab": {
     "base_uri": "https://localhost:8080/",
     "height": 1231
    },
    "colab_type": "code",
    "id": "_C2sAzHPyS-J",
    "outputId": "ecb58098-e1fc-47f4-b8a7-ae0558f560be"
   },
   "outputs": [
    {
     "data": {
      "text/html": [
       "<div>\n",
       "<style scoped>\n",
       "    .dataframe tbody tr th:only-of-type {\n",
       "        vertical-align: middle;\n",
       "    }\n",
       "\n",
       "    .dataframe tbody tr th {\n",
       "        vertical-align: top;\n",
       "    }\n",
       "\n",
       "    .dataframe thead th {\n",
       "        text-align: right;\n",
       "    }\n",
       "</style>\n",
       "<table border=\"1\" class=\"dataframe\">\n",
       "  <thead>\n",
       "    <tr style=\"text-align: right;\">\n",
       "      <th></th>\n",
       "      <th>importance</th>\n",
       "      <th>labels</th>\n",
       "    </tr>\n",
       "  </thead>\n",
       "  <tbody>\n",
       "    <tr>\n",
       "      <th>2</th>\n",
       "      <td>0.343934</td>\n",
       "      <td>total_day_charge</td>\n",
       "    </tr>\n",
       "    <tr>\n",
       "      <th>3</th>\n",
       "      <td>0.151215</td>\n",
       "      <td>total_eve_charge</td>\n",
       "    </tr>\n",
       "    <tr>\n",
       "      <th>6</th>\n",
       "      <td>0.142857</td>\n",
       "      <td>number_customer_service_calls</td>\n",
       "    </tr>\n",
       "    <tr>\n",
       "      <th>4</th>\n",
       "      <td>0.117080</td>\n",
       "      <td>total_night_charge</td>\n",
       "    </tr>\n",
       "    <tr>\n",
       "      <th>0</th>\n",
       "      <td>0.097053</td>\n",
       "      <td>account_length</td>\n",
       "    </tr>\n",
       "  </tbody>\n",
       "</table>\n",
       "</div>"
      ],
      "text/plain": [
       "   importance                         labels\n",
       "2    0.343934               total_day_charge\n",
       "3    0.151215               total_eve_charge\n",
       "6    0.142857  number_customer_service_calls\n",
       "4    0.117080             total_night_charge\n",
       "0    0.097053                 account_length"
      ]
     },
     "metadata": {
      "tags": []
     },
     "output_type": "display_data"
    },
    {
     "data": {
      "image/png": "[encoded data removed]",
      "text/plain": [
       "<Figure size 1440x1296 with 1 Axes>"
      ]
     },
     "metadata": {
      "tags": []
     },
     "output_type": "display_data"
    }
   ],
   "source": [
    "plot_features_importance(randForestClf)"
   ]
  },
  {
   "cell_type": "markdown",
   "metadata": {
    "colab_type": "text",
    "id": "Vhr1hrsdyS-P"
   },
   "source": [
    "### How many customers have more than 90% chance of stop using my product?"
   ]
  },
  {
   "cell_type": "code",
   "execution_count": 0,
   "metadata": {
    "colab": {
     "base_uri": "https://localhost:8080/",
     "height": 429
    },
    "colab_type": "code",
    "id": "wnAYfjj5yS-Q",
    "outputId": "a119ac0f-0d20-43a6-f61f-3466babb1953"
   },
   "outputs": [
    {
     "name": "stderr",
     "output_type": "stream",
     "text": [
      "/usr/local/lib/python3.6/dist-packages/ipykernel_launcher.py:1: SettingWithCopyWarning: \n",
      "A value is trying to be set on a copy of a slice from a DataFrame.\n",
      "Try using .loc[row_indexer,col_indexer] = value instead\n",
      "\n",
      "See the caveats in the documentation: http://pandas.pydata.org/pandas-docs/stable/indexing.html#indexing-view-versus-copy\n",
      "  \"\"\"Entry point for launching an IPython kernel.\n"
     ]
    },
    {
     "data": {
      "text/html": [
       "<div>\n",
       "<style scoped>\n",
       "    .dataframe tbody tr th:only-of-type {\n",
       "        vertical-align: middle;\n",
       "    }\n",
       "\n",
       "    .dataframe tbody tr th {\n",
       "        vertical-align: top;\n",
       "    }\n",
       "\n",
       "    .dataframe thead th {\n",
       "        text-align: right;\n",
       "    }\n",
       "</style>\n",
       "<table border=\"1\" class=\"dataframe\">\n",
       "  <thead>\n",
       "    <tr style=\"text-align: right;\">\n",
       "      <th></th>\n",
       "      <th>prob_true</th>\n",
       "    </tr>\n",
       "  </thead>\n",
       "  <tbody>\n",
       "    <tr>\n",
       "      <th>2155</th>\n",
       "      <td>0.966667</td>\n",
       "    </tr>\n",
       "    <tr>\n",
       "      <th>3993</th>\n",
       "      <td>0.966667</td>\n",
       "    </tr>\n",
       "    <tr>\n",
       "      <th>4788</th>\n",
       "      <td>0.933333</td>\n",
       "    </tr>\n",
       "    <tr>\n",
       "      <th>2099</th>\n",
       "      <td>0.933333</td>\n",
       "    </tr>\n",
       "    <tr>\n",
       "      <th>3272</th>\n",
       "      <td>1.000000</td>\n",
       "    </tr>\n",
       "    <tr>\n",
       "      <th>660</th>\n",
       "      <td>1.000000</td>\n",
       "    </tr>\n",
       "    <tr>\n",
       "      <th>2113</th>\n",
       "      <td>0.966667</td>\n",
       "    </tr>\n",
       "    <tr>\n",
       "      <th>521</th>\n",
       "      <td>0.933333</td>\n",
       "    </tr>\n",
       "    <tr>\n",
       "      <th>3112</th>\n",
       "      <td>0.966667</td>\n",
       "    </tr>\n",
       "  </tbody>\n",
       "</table>\n",
       "</div>"
      ],
      "text/plain": [
       "      prob_true\n",
       "2155   0.966667\n",
       "3993   0.966667\n",
       "4788   0.933333\n",
       "2099   0.933333\n",
       "3272   1.000000\n",
       "660    1.000000\n",
       "2113   0.966667\n",
       "521    0.933333\n",
       "3112   0.966667"
      ]
     },
     "execution_count": 76,
     "metadata": {
      "tags": []
     },
     "output_type": "execute_result"
    }
   ],
   "source": [
    "df_test[\"prob_true\"] = randForestProbs[:, 1]\n",
    "df_risky = df_test[df_test[\"prob_true\"] > 0.9]\n",
    "df_risky[[\"prob_true\"]]"
   ]
  },
  {
   "cell_type": "code",
   "execution_count": 0,
   "metadata": {
    "colab": {
     "base_uri": "https://localhost:8080/",
     "height": 35
    },
    "colab_type": "code",
    "id": "tBm8Y7pRyS-V",
    "outputId": "0a899fe7-9eac-44df-90d2-9b8b78ed229e"
   },
   "outputs": [
    {
     "data": {
      "text/plain": [
       "(9, 9)"
      ]
     },
     "execution_count": 77,
     "metadata": {
      "tags": []
     },
     "output_type": "execute_result"
    }
   ],
   "source": [
    "df_risky.shape"
   ]
  },
  {
   "cell_type": "code",
   "execution_count": 0,
   "metadata": {
    "colab": {
     "base_uri": "https://localhost:8080/",
     "height": 173
    },
    "colab_type": "code",
    "id": "zgN2gr6ByS-b",
    "outputId": "ec9ea447-a1eb-4032-ef4c-19fb8ba64344"
   },
   "outputs": [
    {
     "data": {
      "text/plain": [
       "account_length                   154.00\n",
       "number_vmail_messages              0.00\n",
       "total_day_charge                  59.64\n",
       "total_eve_charge                  18.40\n",
       "total_night_charge                11.43\n",
       "total_intl_charge                  2.73\n",
       "number_customer_service_calls      1.00\n",
       "churn                              1.00\n",
       "Name: 365, dtype: float64"
      ]
     },
     "execution_count": 78,
     "metadata": {
      "tags": []
     },
     "output_type": "execute_result"
    }
   ],
   "source": [
    "df.iloc[365]"
   ]
  },
  {
   "cell_type": "code",
   "execution_count": 0,
   "metadata": {
    "colab": {},
    "colab_type": "code",
    "id": "M3A_DLz9yS-f"
   },
   "outputs": [],
   "source": []
  }
 ],
 "metadata": {
  "colab": {
   "collapsed_sections": [],
   "include_colab_link": true,
   "name": "churn_analysis.ipynb",
   "provenance": [],
   "version": "0.3.2"
  },
  "kernelspec": {
   "display_name": "Python 3",
   "language": "python",
   "name": "python3"
  },
  "language_info": {
   "codemirror_mode": {
    "name": "ipython",
    "version": 3
   },
   "file_extension": ".py",
   "mimetype": "text/x-python",
   "name": "python",
   "nbconvert_exporter": "python",
   "pygments_lexer": "ipython3",
   "version": "3.7.3"
  }
 },
 "nbformat": 4,
 "nbformat_minor": 1
}
